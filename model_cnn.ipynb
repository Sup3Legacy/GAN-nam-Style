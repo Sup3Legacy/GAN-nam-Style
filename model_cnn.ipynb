{
 "cells": [
  {
   "cell_type": "code",
   "execution_count": null,
   "id": "9c9c08c0-a912-4ed3-b74e-98ec3cc89e7f",
   "metadata": {},
   "outputs": [],
   "source": [
    "%pip install librosa python-dotenv pydot\n",
    "%pip install torch==1.10.1+cu113 torchvision==0.11.2+cu113 torchaudio==0.10.1+cu113 -f https://download.pytorch.org/whl/cu113/torch_stable.html"
   ]
  },
  {
   "cell_type": "code",
   "execution_count": null,
   "id": "6e09374b-b974-47b8-be52-90a62a061b3e",
   "metadata": {},
   "outputs": [],
   "source": [
    "from torchaudio import models\n",
    "import torchaudio\n",
    "import torchaudio.transforms as transforms\n",
    "import torch\n",
    "import torch.nn as nn\n",
    "import torch.nn.functional as F\n",
    "import IPython.display as ipd\n",
    "import librosa\n",
    "import librosa.display\n",
    "import matplotlib.pyplot as plt\n",
    "import random\n",
    "import numpy as np\n",
    "\n",
    "import dataloader\n",
    "\n",
    "device = torch.device(\"cuda:0\" if torch.cuda.is_available() else \"cpu\")"
   ]
  },
  {
   "cell_type": "code",
   "execution_count": null,
   "id": "1d954875-cf79-4532-b5e3-3314448619eb",
   "metadata": {},
   "outputs": [],
   "source": [
    "%%time\n",
    "ms = dataloader.MusicSet(dataloader.TRACKS, device=device)"
   ]
  },
  {
   "cell_type": "code",
   "execution_count": null,
   "id": "012cf914-642f-46e0-a30b-9c713575f5e3",
   "metadata": {},
   "outputs": [],
   "source": [
    "th = nn.Threshold(1, 1e-12)\n",
    "lol = torch.Tensor([0., 0.5, 1., 1.5, 2.])\n",
    "print(th(lol))"
   ]
  },
  {
   "cell_type": "code",
   "execution_count": null,
   "id": "d1cf95bd-a03f-4ff1-b94a-043c35ca3e46",
   "metadata": {},
   "outputs": [],
   "source": [
    "t = ms[0][0]\n",
    "print(t.shape)"
   ]
  },
  {
   "cell_type": "code",
   "execution_count": null,
   "id": "61d0f769-0600-4bf7-b37c-e487ae311d13",
   "metadata": {},
   "outputs": [],
   "source": [
    "cv0 = nn.Conv2d(in_channels=1, out_channels=4, kernel_size=(9, 9), stride = (2, 3)).to(device)\n",
    "t_0 = cv0(t[None][None])\n",
    "print(t_0.shape)\n",
    "cv1 = nn.Conv2d(in_channels=4, out_channels=64, kernel_size=(9, 9), stride = (2, 3)).to(device)\n",
    "t_1 = cv1(t_0)\n",
    "print(t_1.shape)\n",
    "cv2 = nn.Conv2d(in_channels=64, out_channels=128, kernel_size=(9, 9), stride = (2, 3)).to(device)\n",
    "t_2 = cv2(t_1)\n",
    "print(t_2.shape)\n",
    "\n",
    "rnn1 = nn.LSTM(122 * 44, 128, 2).to(device)\n",
    "t_3, _ = rnn1(t_2.view(1, -1, 122 * 44))\n",
    "print(t_3.shape)\n",
    "\n",
    "rnn2 = nn.LSTM(128, 122 * 44, 2).to(device)\n",
    "t_4p, _ = rnn2(t_3)\n",
    "t_4 = t_4p.view(1, 128, -1, 44)\n",
    "print(t_4.shape)\n",
    "\n",
    "cv3 = nn.ConvTranspose2d(in_channels=128, out_channels=128, kernel_size=(9,9), stride = (2, 3)).to(device)\n",
    "t_5 = cv3(t_4)\n",
    "print(t_5.shape)\n",
    "\n",
    "cv4 = nn.ConvTranspose2d(in_channels=128, out_channels=64, kernel_size=(9,9), stride = (2, 3)).to(device)\n",
    "t_6 = cv4(t_5)\n",
    "print(t_6.shape)\n",
    "\n",
    "cv5 = nn.ConvTranspose2d(in_channels=64, out_channels=64, kernel_size=(9,9), stride = (2, 3)).to(device)\n",
    "t_7 = cv5(t_6)\n",
    "print(t_7.shape)"
   ]
  },
  {
   "cell_type": "code",
   "execution_count": null,
   "id": "9a713a5a-5fb8-4ff7-91c6-9900f4a46708",
   "metadata": {},
   "outputs": [],
   "source": [
    "a, b = torch.zeros([1, 1291, 1025]), torch.zeros([1, 1291, 1025])\n",
    "c = torch.sum((a - b) ** 2, 1).squeeze()\n",
    "print(c.shape)"
   ]
  },
  {
   "cell_type": "code",
   "execution_count": null,
   "id": "60702eb7-2ad4-42c3-b96f-b7cbe75a24b5",
   "metadata": {
    "tags": []
   },
   "outputs": [],
   "source": [
    "def pre_process(sample):\n",
    "    x_p = sample[0].t()[None, ]\n",
    "    F.threshold(x_p, 1e-4, 0, inplace=True)\n",
    "    #torch.log10(x_p, out=x_p)\n",
    "    a_max = x_p.abs().max()\n",
    "    x_p /= a_max\n",
    "    return x_p, a_max\n",
    "\n",
    "def post_process(sample, a_max):\n",
    "    return sample*a_max\n",
    "    #return 10**(sample*a_max)"
   ]
  },
  {
   "cell_type": "code",
   "execution_count": null,
   "id": "ec885a68-b6da-418b-8ee8-2de920234984",
   "metadata": {},
   "outputs": [],
   "source": [
    "class RNN_VAE(nn.Module):\n",
    "    def __init__(self, input_size, hidden_size, num_layers, encoder_dim=64):\n",
    "        super(RNN_VAE, self).__init__()\n",
    "        self.cv0 = nn.Conv2d(in_channels=1, out_channels=4, kernel_size=(9,9), stride = (2, 3)).to(device)\n",
    "        self.cv1 = nn.Conv2d(in_channels=4, out_channels=64, kernel_size=(9,9), stride = (2, 3)).to(device)\n",
    "        self.cv2 = nn.Conv2d(in_channels=64, out_channels=128, kernel_size=(9,9), stride = (2, 3)).to(device)\n",
    "        self.cv3 = nn.ConvTranspose2d(in_channels=128, out_channels=64, kernel_size=(9,9), stride = (2, 3)).to(device)\n",
    "        self.cv4 = nn.ConvTranspose2d(in_channels=64, out_channels=4, kernel_size=(9,9), stride = (2, 3)).to(device)\n",
    "        self.cv5 = nn.ConvTranspose2d(in_channels=4, out_channels=1, kernel_size=(9,9), stride = (2, 3)).to(device)\n",
    "        self.rnn1 = nn.LSTM(122 * 44, 128, 2).to(device)\n",
    "        self.rnn2 = rnn2 = nn.LSTM(128, 122 * 44, 2).to(device)\n",
    "\n",
    "    def encode(self,x):\n",
    "        # hidden state\n",
    "        x = self.cv0(x)\n",
    "        x = self.cv1(x)\n",
    "        x = self.cv2(x)\n",
    "        x, _ = self.rnn1(x.view(1, -1, 122 * 44))\n",
    "        return torch.relu(x)\n",
    "\n",
    "    def decode(self, x):\n",
    "        x, _ = self.rnn2(x)\n",
    "        x = x.view(1, 128, -1, 44)\n",
    "        x = self.cv3(x)\n",
    "        x = self.cv4(x)\n",
    "        x = self.cv5(x)\n",
    "        return x\n",
    "\n",
    "    def forward(self, x):\n",
    "        middle = self.encode(x[0].t()[None][None])\n",
    "        out = self.decode(middle)\n",
    "        return out"
   ]
  },
  {
   "cell_type": "code",
   "execution_count": null,
   "id": "b7be84f9-b77a-43e7-8172-e394f51f3ec3",
   "metadata": {},
   "outputs": [],
   "source": [
    "LEARNING_RATE = 5e-4\n",
    "WEIGHT_DECAY = 0\n",
    "PENALITY = 0.5\n",
    "\n",
    "model = RNN_VAE(1025, 64, 3, 64).to(device)\n",
    "optimizer = torch.optim.Adam(model.parameters(), lr=LEARNING_RATE, weight_decay=WEIGHT_DECAY)\n",
    "scheduler = torch.optim.lr_scheduler.MultiStepLR(optimizer, milestones=[50], gamma=0.1)\n",
    "criterion = nn.MSELoss()"
   ]
  },
  {
   "cell_type": "code",
   "execution_count": null,
   "id": "2aab297a-3e93-4e38-a149-68d486a7d08d",
   "metadata": {},
   "outputs": [],
   "source": [
    "TEACHING_RATE = 1\n",
    "def train(num_epochs, teaching_rate=TEACHING_RATE):\n",
    "    for epoch in range(num_epochs):\n",
    "        for i, x in enumerate(ms):\n",
    "            x_p, _ = pre_process(x)\n",
    "            #x_p = sample[0].t()[None, ]\n",
    "            out = model.forward(x_p)[0][0].t()[None]\n",
    "            x_p = x_p[:, :out.shape[1], :out.shape[2]]\n",
    "            optimizer.zero_grad()\n",
    "            #loss = torch.sum(torch.sum((out - x_p) ** 2, 1).squeeze() * torch.linspace(1, 20, out.shape[2]).to(device) ** (1/2))\n",
    "            #loss = torch.sum((out[None, :] - x_p))\n",
    "            loss = criterion(out, x_p)\n",
    "            loss.backward()\n",
    "            # _ = nn.utils.clip_grad_norm_(model.parameters(), 25.)\n",
    "            optimizer.step()\n",
    "            if i % 1 == 0:\n",
    "                print(\" \"*28, end='\\r')\n",
    "                print(f\"{epoch},{i}: {loss}\", end='\\r')\n",
    "            i += 1\n",
    "            break\n",
    "        scheduler.step()"
   ]
  },
  {
   "cell_type": "code",
   "execution_count": null,
   "id": "7aaed233-e54e-4b72-94ad-8f2c534e25b1",
   "metadata": {},
   "outputs": [],
   "source": [
    "train(20000)"
   ]
  },
  {
   "cell_type": "code",
   "execution_count": null,
   "id": "357d4326-f1c2-4452-966c-efba41352d88",
   "metadata": {},
   "outputs": [],
   "source": [
    "SAMPLE = 0\n",
    "\n",
    "test_song_orig = ms[SAMPLE][0]\n",
    "print(test_song_orig.shape)\n",
    "res_orig = ms.from_spectro(test_song_orig)\n",
    "print(res_orig.shape)\n",
    "\n",
    "\n",
    "print(test_song_orig.cpu().detach().numpy())\n",
    "print(f\"Max: {test_song_orig.max().cpu().detach().numpy()},\\\n",
    "      min: {test_song_orig.min().cpu().detach().numpy()},\\\n",
    "      mean: {test_song_orig.mean().cpu().detach().numpy()}\")\n",
    "\n",
    "p = torch.sum(test_song_orig.t().abs(), 1)\n",
    "plt.plot(p.cpu().detach())\n",
    "ipd.Audio(res_orig.cpu(), rate=22050)"
   ]
  },
  {
   "cell_type": "code",
   "execution_count": null,
   "id": "eb09edee-a2f1-4fe3-9ad3-0b01c9323fd6",
   "metadata": {},
   "outputs": [],
   "source": [
    "test_song = ms[SAMPLE]\n",
    "test_song, a_max = pre_process(test_song)\n",
    "spectro = model.forward(test_song)\n",
    "# print(spectro_.shape)\n",
    "spectro = post_process(spectro, a_max).abs()[0][0]\n",
    "#spectro = F.threshold(spectro, 1e-3, 0)\n",
    "\n",
    "res = ms.from_spectro(spectro)\n",
    "# print(res.shape)\n",
    "\n",
    "#print(spectro.cpu().detach().numpy())\n",
    "print(f\"Max: {spectro.max().cpu().detach().numpy()},\\\n",
    "      min: {spectro.min().cpu().detach().numpy()},\\\n",
    "      mean: {spectro.mean().cpu().detach().numpy()}\")\n",
    "\n",
    "p = torch.sum(spectro.t().abs(), 1)\n",
    "plt.plot(p.cpu().detach())\n",
    "ipd.Audio(res.cpu().detach(), rate=22050)"
   ]
  },
  {
   "cell_type": "code",
   "execution_count": null,
   "id": "b0714ca1-6a4e-4ee7-ad16-e4150163df42",
   "metadata": {},
   "outputs": [],
   "source": [
    "librosa.display.specshow(test_song_orig.cpu().detach().numpy(), sr=22050, hop_length=512, x_axis='time', y_axis='log')\n",
    "plt.colorbar()"
   ]
  },
  {
   "cell_type": "code",
   "execution_count": null,
   "id": "136e72e5-7e79-455b-83b7-dbe09e1a1970",
   "metadata": {},
   "outputs": [],
   "source": [
    "librosa.display.specshow(spectro.cpu().detach().numpy(), sr=22050, hop_length=512, x_axis='time', y_axis='log')\n",
    "plt.colorbar()\n",
    "\n",
    "plt.savefig(\"lol\")"
   ]
  },
  {
   "cell_type": "code",
   "execution_count": null,
   "id": "3c773651-f1c3-4d08-ae12-8015906302fa",
   "metadata": {},
   "outputs": [],
   "source": [
    "import soundfile\n",
    "soundfile.write(\"result_2_3layer_bidim_gru_0-2.wav\",10*res.cpu().detach().numpy(), 22050)"
   ]
  },
  {
   "cell_type": "code",
   "execution_count": null,
   "id": "cdac57f7-9989-4129-bb66-62c8ce7dcf47",
   "metadata": {},
   "outputs": [],
   "source": [
    "torch.save(model.state_dict(), \"CNN_LSTM_model_0\")"
   ]
  },
  {
   "cell_type": "code",
   "execution_count": null,
   "id": "eef38ec6-434e-495a-bf3a-7b00dfcb4ca5",
   "metadata": {},
   "outputs": [],
   "source": [
    "model.load_state_dict(torch.load(\"CNN_LSTM_model_0\"))"
   ]
  },
  {
   "cell_type": "code",
   "execution_count": null,
   "id": "02e78789-490a-4e4b-8ece-b1aa5ea17b43",
   "metadata": {},
   "outputs": [],
   "source": [
    "pytorch_total_params = list((p.numel()) for p in model.parameters())\n",
    "print(pytorch_total_params)"
   ]
  },
  {
   "cell_type": "code",
   "execution_count": null,
   "id": "0ce3a002-8af3-4595-9807-0880c8cbb7ec",
   "metadata": {},
   "outputs": [],
   "source": [
    "[(x, model.state_dict()[x].shape, prod(torch.Tensor(model.state_dict()[x].shape))) for x in model.state_dict()]"
   ]
  },
  {
   "cell_type": "code",
   "execution_count": null,
   "id": "eeeacd67-e5fe-48c4-ae64-a7c33ba46699",
   "metadata": {},
   "outputs": [],
   "source": []
  }
 ],
 "metadata": {
  "kernelspec": {
   "display_name": "Python 3 (ipykernel)",
   "language": "python",
   "name": "python3"
  },
  "language_info": {
   "codemirror_mode": {
    "name": "ipython",
    "version": 3
   },
   "file_extension": ".py",
   "mimetype": "text/x-python",
   "name": "python",
   "nbconvert_exporter": "python",
   "pygments_lexer": "ipython3",
   "version": "3.8.12"
  }
 },
 "nbformat": 4,
 "nbformat_minor": 5
}
