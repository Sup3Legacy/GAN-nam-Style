{
 "cells": [
  {
   "cell_type": "code",
   "execution_count": null,
   "id": "9c9c08c0-a912-4ed3-b74e-98ec3cc89e7f",
   "metadata": {},
   "outputs": [],
   "source": [
    "%pip install librosa python-dotenv pydot\n",
    "%pip install torch==1.10.1+cu113 torchvision==0.11.2+cu113 torchaudio==0.10.1+cu113 -f https://download.pytorch.org/whl/cu113/torch_stable.html"
   ]
  },
  {
   "cell_type": "code",
   "execution_count": null,
   "id": "6e09374b-b974-47b8-be52-90a62a061b3e",
   "metadata": {},
   "outputs": [],
   "source": [
    "from torchaudio import models\n",
    "import torchaudio\n",
    "import torchaudio.transforms as transforms\n",
    "import torch\n",
    "import torch.nn as nn\n",
    "import torch.nn.functional as F\n",
    "import IPython.display as ipd\n",
    "import librosa\n",
    "import librosa.display\n",
    "import matplotlib.pyplot as plt\n",
    "import random\n",
    "\n",
    "import dataloader\n",
    "\n",
    "device = torch.device(\"cuda:0\" if torch.cuda.is_available() else \"cpu\")"
   ]
  },
  {
   "cell_type": "code",
   "execution_count": null,
   "id": "1d954875-cf79-4532-b5e3-3314448619eb",
   "metadata": {},
   "outputs": [],
   "source": [
    "%%time\n",
    "ms = dataloader.MusicSet(dataloader.TRACKS, device=device)"
   ]
  },
  {
   "cell_type": "code",
   "execution_count": null,
   "id": "60702eb7-2ad4-42c3-b96f-b7cbe75a24b5",
   "metadata": {
    "tags": []
   },
   "outputs": [],
   "source": [
    "def pre_process(sample):\n",
    "    x_p = sample[0].t()[None, ]\n",
    "    a_max = x_p.abs().max()\n",
    "    x_p /= a_max\n",
    "    F.threshold(x_p, 1e-2, 1e-2, inplace=True)\n",
    "    x_p *= a_max\n",
    "    torch.log10(x_p, out=x_p)\n",
    "    return x_p, None\n",
    "\n",
    "def pre_process(sample):\n",
    "    x_p = sample[0].t()[None, ]\n",
    "    x_p /= x_p.abs().max()\n",
    "    F.threshold(x_p, 1e-4, 0, inplace=True)\n",
    "    return x_p, None\n",
    "\n",
    "def post_process(sample):\n",
    "    return 10**(sample)\n",
    "\n",
    "def post_process(sample, _):\n",
    "    return sample"
   ]
  },
  {
   "cell_type": "code",
   "execution_count": null,
   "id": "ec885a68-b6da-418b-8ee8-2de920234984",
   "metadata": {},
   "outputs": [],
   "source": [
    "class RNN_VAE(nn.Module):\n",
    "    def __init__(self, input_size, hidden_size, num_layers, encoder_dim=64):\n",
    "        super(RNN_VAE, self).__init__()\n",
    "        self.num_layers = num_layers\n",
    "        self.hidden_size = hidden_size\n",
    "        self.input_size = input_size\n",
    "        self.rnn1 = nn.LSTM(input_size,\n",
    "                           hidden_size,\n",
    "                           num_layers,\n",
    "                           batch_first=True,\n",
    "                           bidirectional=True)\n",
    "        self.rnn2 = nn.LSTM(hidden_size,\n",
    "                           input_size,\n",
    "                           num_layers,\n",
    "                           batch_first=True)\n",
    "        #self.fc0 = nn.Linear(hidden_size, encoder_dim)\n",
    "        #self.fc1 = nn.Linear(encoder_dim, hidden_size)\n",
    "\n",
    "    def encode(self,x):\n",
    "        # hidden state\n",
    "        middle, _ = self.rnn1(x)\n",
    "        middle = middle.view(1, x.shape[1], 2, self.hidden_size)[:, :, 0, :]\n",
    "        return middle\n",
    "\n",
    "    def decode(self, inp_dec, forced_teaching=False):\n",
    "        if not forced_teaching:\n",
    "            L = inp_dec.shape[1]\n",
    "            inp_dec = inp_dec[:, -1].repeat(1, L, 1)\n",
    "        #middle = self.fc0(inp_dec)\n",
    "        middle = torch.tanh(inp_dec)\n",
    "        #middle = self.fc1(middle)\n",
    "        #middle = torch.relu(middle)\n",
    "        y, _ = self.rnn2(middle)\n",
    "        return torch.tanh(y)\n",
    "\n",
    "    def forward(self, x):\n",
    "        middle = self.encode(x)\n",
    "        out = self.decode(middle)\n",
    "        return out"
   ]
  },
  {
   "cell_type": "code",
   "execution_count": null,
   "id": "b7be84f9-b77a-43e7-8172-e394f51f3ec3",
   "metadata": {},
   "outputs": [],
   "source": [
    "LEARNING_RATE = 1e-3\n",
    "WEIGHT_DECAY = 0\n",
    "\n",
    "model = RNN_VAE(1025, 64, 3, 64).to(device)\n",
    "optimizer = torch.optim.Adam(model.parameters(), lr=LEARNING_RATE, weight_decay=WEIGHT_DECAY)\n",
    "scheduler = torch.optim.lr_scheduler.MultiStepLR(optimizer, milestones=[50], gamma=0.1)\n",
    "criterion = nn.MSELoss()"
   ]
  },
  {
   "cell_type": "code",
   "execution_count": null,
   "id": "2aab297a-3e93-4e38-a149-68d486a7d08d",
   "metadata": {},
   "outputs": [],
   "source": [
    "TEACHING_RATE = 1\n",
    "def train(num_epochs, teaching_rate=TEACHING_RATE):\n",
    "    freq_mask = transforms.FrequencyMasking(80)\n",
    "    for epoch in range(num_epochs):\n",
    "        for i, x in enumerate(ms):\n",
    "            x_p, _ = pre_process(x)\n",
    "            #x_p = sample[0].t()[None, ]\n",
    "            x_p = freq_mask(x_p)\n",
    "            mid = model.encode(x_p)\n",
    "            forced_teaching = random.random() < teaching_rate\n",
    "            out = model.decode(mid, forced_teaching)\n",
    "            optimizer.zero_grad()\n",
    "            loss = criterion(out, x_p)\n",
    "            loss.backward()\n",
    "            _ = nn.utils.clip_grad_norm_(model.parameters(), 25.)\n",
    "            optimizer.step()\n",
    "            if i % 1 == 0:\n",
    "                print(\" \"*30, end='\\r')\n",
    "                print(f\"{epoch},{i}: {loss:.4e}\", end='\\r')\n",
    "            i += 1\n",
    "        scheduler.step()"
   ]
  },
  {
   "cell_type": "code",
   "execution_count": null,
   "id": "2d2180f2-dcf1-4586-8eb5-647999bef7b9",
   "metadata": {},
   "outputs": [],
   "source": [
    "#model = torch.load(\"trained_model\")"
   ]
  },
  {
   "cell_type": "code",
   "execution_count": null,
   "id": "7aaed233-e54e-4b72-94ad-8f2c534e25b1",
   "metadata": {},
   "outputs": [],
   "source": [
    "#train(5)"
   ]
  },
  {
   "cell_type": "code",
   "execution_count": null,
   "id": "357d4326-f1c2-4452-966c-efba41352d88",
   "metadata": {},
   "outputs": [],
   "source": [
    "SAMPLE = 7532\n",
    "\n",
    "test_song_orig = ms[SAMPLE][0]\n",
    "test_song_orig /= test_song_orig.max()\n",
    "print(test_song_orig.shape)\n",
    "res_orig = ms.from_spectro(test_song_orig)\n",
    "print(res_orig.shape)\n",
    "\n",
    "\n",
    "print(test_song_orig.cpu().detach().numpy())\n",
    "print(f\"Max: {test_song_orig.max().cpu().detach().numpy()},\\\n",
    "      min: {test_song_orig.min().cpu().detach().numpy()},\\\n",
    "      mean: {test_song_orig.mean().cpu().detach().numpy()}\")\n",
    "\n",
    "p = torch.sum(test_song_orig.t().abs(), 1)\n",
    "plt.plot(p.cpu().detach())\n",
    "ipd.Audio(res_orig.cpu(), rate=22050)"
   ]
  },
  {
   "cell_type": "code",
   "execution_count": null,
   "id": "eb09edee-a2f1-4fe3-9ad3-0b01c9323fd6",
   "metadata": {},
   "outputs": [],
   "source": [
    "test_song = ms[SAMPLE]\n",
    "test_song, a_max = pre_process(test_song)\n",
    "code = model.encode(test_song)\n",
    "#plt.imshow(code.squeeze().cpu().detach().numpy())\n",
    "spectro_forced = model.decode(code, True).squeeze().t()\n",
    "spectro_ = model.decode(code, False).squeeze().t()\n",
    "# print(spectro_.shape)\n",
    "spectro = post_process(spectro_forced, None)\n",
    "spectro = spectro.relu()\n",
    "#spectro = F.threshold(spectro, 1e-4, 1e-15)\n",
    "res = ms.from_spectro(spectro)\n",
    "# print(res.shape)\n",
    "\n",
    "#print(spectro.cpu().detach().numpy())\n",
    "print(f\"Max: {spectro.max().cpu().detach().numpy()},\\\n",
    "      min: {spectro.min().cpu().detach().numpy()},\\\n",
    "      mean: {spectro.mean().cpu().detach().numpy()}\")\n",
    "\n",
    "p = torch.sum(spectro.t().abs(), 1)\n",
    "plt.plot(p.cpu().detach())\n",
    "ipd.Audio(res.cpu().detach(), rate=22050)"
   ]
  },
  {
   "cell_type": "code",
   "execution_count": null,
   "id": "dbf323c1-e404-448b-9dbe-5beac5a55715",
   "metadata": {},
   "outputs": [],
   "source": [
    "librosa.display.specshow(test_song_orig.log10().cpu().detach().numpy(), sr=22050, hop_length=512, x_axis='time', y_axis='log')\n",
    "plt.colorbar()"
   ]
  },
  {
   "cell_type": "code",
   "execution_count": null,
   "id": "136e72e5-7e79-455b-83b7-dbe09e1a1970",
   "metadata": {},
   "outputs": [],
   "source": [
    "librosa.display.specshow(spectro.log10().cpu().detach().numpy(), sr=22050, hop_length=512, x_axis='time', y_axis='log')\n",
    "plt.colorbar()"
   ]
  },
  {
   "cell_type": "code",
   "execution_count": null,
   "id": "69c26a0c-9071-439b-b24e-712ab72c80d4",
   "metadata": {},
   "outputs": [],
   "source": [
    "#torch.save(model, \"./trained_model\")"
   ]
  },
  {
   "cell_type": "code",
   "execution_count": null,
   "id": "3c773651-f1c3-4d08-ae12-8015906302fa",
   "metadata": {},
   "outputs": [],
   "source": [
    "import soundfile\n",
    "#soundfile.write(\"result_2_3layer_bidim_gru_0-2.wav\",10*res.cpu().detach().numpy(), 22050)"
   ]
  },
  {
   "cell_type": "code",
   "execution_count": null,
   "id": "cdac57f7-9989-4129-bb66-62c8ce7dcf47",
   "metadata": {},
   "outputs": [],
   "source": [
    "## Testing\n",
    "import os\n",
    "test_set_files = os.listdir(\"../test_set\")\n",
    "test_set_files = [\"../test_set/\"+x for x in test_set_files]\n",
    "losses = [None]*len(test_set_files)\n",
    "\n",
    "def load_file(filename):\n",
    "    audio, sr = torchaudio.load(test_sample_file)\n",
    "    audio = audio.to(device)\n",
    "    audio = audio.mean(dim=0) # to mono\n",
    "    audio = torchaudio.functional.resample(audio, sr, 22050)\n",
    "    spectro = ms.to_spectro(audio)\n",
    "    return spectro, audio"
   ]
  },
  {
   "cell_type": "code",
   "execution_count": null,
   "id": "62ee2d83-2812-4fa5-8649-6b96e1a42425",
   "metadata": {},
   "outputs": [],
   "source": [
    "for i, test_sample_file in enumerate(test_set_files):\n",
    "    spectro, _ = load_file(test_sample_file)\n",
    "    inp, _ = pre_process(spectro[None,])\n",
    "    code = model.encode(inp)\n",
    "    out = model.decode(code, True)\n",
    "    out = post_process(out, None)\n",
    "    out = out[0].t()\n",
    "    losses[i] = criterion(out, spectro)"
   ]
  },
  {
   "cell_type": "code",
   "execution_count": null,
   "id": "1a845f7b-aabd-4767-9a4b-3dafcba9a833",
   "metadata": {},
   "outputs": [],
   "source": [
    "plt.plot(sorted(losses[i]))"
   ]
  },
  {
   "cell_type": "code",
   "execution_count": null,
   "id": "eef38ec6-434e-495a-bf3a-7b00dfcb4ca5",
   "metadata": {},
   "outputs": [],
   "source": [
    "SAMPLE_TEST = 22\n",
    "test_sample_file = test_set_files[SAMPLE_TEST]\n",
    "\n",
    "spectro, audio = load_file(test_sample_file)\n",
    "inp, _ = pre_process(spectro[None,])\n",
    "code = model.encode(inp)\n",
    "out = model.decode(code, True)\n",
    "out = post_process(out, None)\n",
    "out = out[0].t().relu()\n",
    "librosa.display.specshow(spectro.cpu().detach().numpy(), sr=22050, hop_length=512, x_axis='time', y_axis='log')\n",
    "print(spectro.min(), spectro.max(), spectro.max())\n",
    "plt.colorbar()\n",
    "plt.show()"
   ]
  },
  {
   "cell_type": "code",
   "execution_count": null,
   "id": "b29b908f-0d9b-4793-ba7c-6448e2906ab9",
   "metadata": {},
   "outputs": [],
   "source": [
    "librosa.display.specshow(out.cpu().detach().numpy(), sr=22050, hop_length=512, x_axis='time', y_axis='log')\n",
    "print(out.min(), out.max(), out.max())\n",
    "plt.colorbar()\n",
    "plt.show()"
   ]
  },
  {
   "cell_type": "code",
   "execution_count": null,
   "id": "1a32a025-1a9d-4681-ba7e-b47b4cf77492",
   "metadata": {},
   "outputs": [],
   "source": [
    "ipd.Audio(audio.cpu().detach(), rate=22050)"
   ]
  },
  {
   "cell_type": "code",
   "execution_count": null,
   "id": "0ae4dc9a-5dc4-4dd2-8f73-f2e150ed0d11",
   "metadata": {},
   "outputs": [],
   "source": [
    "out_audio = ms.from_spectro(out)\n",
    "ipd.Audio(out_audio.cpu().detach(), rate=22050)"
   ]
  }
 ],
 "metadata": {
  "kernelspec": {
   "display_name": "Python 3 (ipykernel)",
   "language": "python",
   "name": "python3"
  },
  "language_info": {
   "codemirror_mode": {
    "name": "ipython",
    "version": 3
   },
   "file_extension": ".py",
   "mimetype": "text/x-python",
   "name": "python",
   "nbconvert_exporter": "python",
   "pygments_lexer": "ipython3",
   "version": "3.8.12"
  }
 },
 "nbformat": 4,
 "nbformat_minor": 5
}
