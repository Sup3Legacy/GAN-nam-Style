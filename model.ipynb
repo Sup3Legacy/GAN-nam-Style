{
 "cells": [
  {
   "cell_type": "code",
   "execution_count": null,
   "id": "6e09374b-b974-47b8-be52-90a62a061b3e",
   "metadata": {},
   "outputs": [],
   "source": [
    "from torchaudio import models\n",
    "import torchaudio\n",
    "import torchaudio.transforms as transforms\n",
    "import torch\n",
    "import torch.nn as nn\n",
    "import torch.nn.functional as F\n",
    "import IPython.display as ipd\n",
    "import librosa\n",
    "import librosa.display\n",
    "import matplotlib.pyplot as plt\n",
    "\n",
    "import dataloader\n",
    "\n",
    "device = torch.device(\"cuda:0\" if torch.cuda.is_available() else \"cpu\")"
   ]
  },
  {
   "cell_type": "code",
   "execution_count": null,
   "id": "1d954875-cf79-4532-b5e3-3314448619eb",
   "metadata": {},
   "outputs": [],
   "source": [
    "%%time\n",
    "ms = dataloader.MusicSet(dataloader.TRACKS, device=device)"
   ]
  },
  {
   "cell_type": "code",
   "execution_count": null,
   "id": "60702eb7-2ad4-42c3-b96f-b7cbe75a24b5",
   "metadata": {
    "tags": []
   },
   "outputs": [],
   "source": [
    "rnn = nn.RNN(1025, 10, 1, batch_first=True).to(device)\n",
    "rnn2 = nn.RNN(1035, 10, 1, batch_first=True).to(device)\n",
    "idx = 100\n",
    "out, h = rnn(ms[idx][0].t()[None,])\n",
    "print(out.shape)\n",
    "out_r = ms[idx][0].t()[0][None].repeat(1291, 1).unsqueeze(0)\n",
    "\n",
    "out = torch.zeros(10).to(device)\n",
    "\n",
    "finale = torch.zeros(1025, 10)\n",
    "\n",
    "lol = ms[idx][0].t()[0]\n",
    "\n",
    "middle = torch.cat([lol, out + torch.randn(10).to(device)])\n",
    "\n",
    "for i in range(1025):\n",
    "    out, h = rnn2(middle[None, None, ], h)\n",
    "    out = out[0][0]\n",
    "    finale[i] = out\n",
    "    middle = torch.cat([lol, out + torch.randn(10).to(device)])\n",
    "\n",
    "out_s = torch.sum(finale, 1)\n",
    "print(out_s.shape, out_s)"
   ]
  },
  {
   "cell_type": "code",
   "execution_count": null,
   "id": "ec885a68-b6da-418b-8ee8-2de920234984",
   "metadata": {},
   "outputs": [],
   "source": [
    "class RNN_VAE(nn.Module):\n",
    "    def __init__(self, input_size, hidden_size, num_layers, encoder_dim=64):\n",
    "        super(RNN_VAE, self).__init__()\n",
    "        self.num_layers = num_layers\n",
    "        self.hidden_size = hidden_size\n",
    "        self.input_size = input_size\n",
    "        self.rnn1 = nn.RNN(input_size, hidden_size, num_layers, batch_first=True, nonlinearity=\"tanh\")\n",
    "        self.rnn2 = nn.RNN(hidden_size * 2, input_size, num_layers, batch_first=True, nonlinearity=\"tanh\")\n",
    "        self.fc0 = nn.Linear(hidden_size, encoder_dim)\n",
    "        self.fc1 = nn.Linear(encoder_dim, hidden_size)\n",
    "\n",
    "    def forward(self, x):\n",
    "        m = x.mean()\n",
    "        x = x\n",
    "        s0 = torch.zeros(self.num_layers, 1, self.hidden_size).to(device)\n",
    "        s1 = torch.zeros(self.num_layers, 1, self.input_size).to(device)\n",
    "        middle, s0 = self.rnn1(x, s0)\n",
    "        middle_0 = middle.squeeze()[x.shape[1] - 1]\n",
    "        middle_1 = self.fc0(middle_0)\n",
    "        middle_2 = torch.sigmoid(middle_1)\n",
    "        middle_3 = self.fc1(middle_1)\n",
    "        #print(middle.shape)\n",
    "        #middle_exp = middle_3.unsqueeze(0).repeat(x.shape[1], 1).unsqueeze(0) * torch.randn(middle_3.shape[0]).to(device).unsqueeze(0)\n",
    "        #output, s1 = self.rnn2(middle_exp, s1)\n",
    "        output = torch.zeros(x.shape[1], self.input_size, requires_grad=True).to(device)\n",
    "        middle_exp = torch.cat([middle_3, torch.zeros(self.hidden_size).to(device)])\n",
    "        for i in range(x.shape[1]):\n",
    "            middle_exp = torch.cat([middle_3, middle[0][i]])\n",
    "            y, s1 = self.rnn2(middle_exp[None, None, ], s1)\n",
    "            output[i] = y\n",
    "        return output"
   ]
  },
  {
   "cell_type": "code",
   "execution_count": null,
   "id": "b7be84f9-b77a-43e7-8172-e394f51f3ec3",
   "metadata": {},
   "outputs": [],
   "source": [
    "model = RNN_VAE(1025, 64, 1, 64).to(device)\n",
    "optimizer = torch.optim.Adam(model.parameters(), lr=0.0001)\n",
    "#criterion = nn.MSELoss()\n",
    "criterion = nn.CrossEntropyLoss()"
   ]
  },
  {
   "cell_type": "code",
   "execution_count": null,
   "id": "2aab297a-3e93-4e38-a149-68d486a7d08d",
   "metadata": {},
   "outputs": [],
   "source": [
    "def train(num_epochs):\n",
    "    for epoch in range(num_epochs):\n",
    "        for i, x in enumerate(ms):\n",
    "            x_p = F.normalize(x[0].t()[None,])\n",
    "            out = model(x_p)\n",
    "            optimizer.zero_grad()\n",
    "            loss = criterion(out, x_p[0])\n",
    "            loss.backward()\n",
    "            _ = nn.utils.clip_grad_norm_(model.parameters(), 25.)\n",
    "            optimizer.step()\n",
    "            i += 1\n",
    "            if i % 1 == 0:\n",
    "                print(f\"{epoch},{i}: {loss}\")"
   ]
  },
  {
   "cell_type": "code",
   "execution_count": null,
   "id": "45ed17ae-4e94-409d-90fc-9386f3388484",
   "metadata": {},
   "outputs": [],
   "source": [
    "train(250)"
   ]
  },
  {
   "cell_type": "code",
   "execution_count": null,
   "id": "357d4326-f1c2-4452-966c-efba41352d88",
   "metadata": {},
   "outputs": [],
   "source": [
    "test_song_orig = ms[420][0]\n",
    "print(test_song_orig.shape)\n",
    "res_orig = ms.from_spectro(test_song_orig)\n",
    "print(res_orig.shape)\n",
    "\n",
    "\n",
    "print(test_song_orig)\n",
    "print(test_song_orig.max(), test_song_orig.min(), test_song_orig.mean())\n",
    "\n",
    "p = torch.sum(test_song_orig.t().abs(), 1)\n",
    "plt.plot(p.cpu().detach())\n",
    "ipd.Audio(res_orig.cpu(), rate=22050)"
   ]
  },
  {
   "cell_type": "code",
   "execution_count": null,
   "id": "eb09edee-a2f1-4fe3-9ad3-0b01c9323fd6",
   "metadata": {},
   "outputs": [],
   "source": [
    "test_song = ms[420][0].t()[None,]\n",
    "spectro = model.forward(test_song).t().abs()\n",
    "print(spectro.shape)\n",
    "\n",
    "res = ms.from_spectro(spectro)\n",
    "print(res.shape)\n",
    "print(spectro.abs())\n",
    "\n",
    "\n",
    "print(spectro.max(), spectro.min(), spectro.mean())\n",
    "\n",
    "lol = spectro[1:] - spectro[0:-1]\n",
    "print(lol.max(), lol.min())\n",
    "\n",
    "p = torch.sum(spectro.t().abs(), 1)\n",
    "plt.plot(p.cpu().detach())\n",
    "ipd.Audio(res.cpu().detach(), rate=22050)"
   ]
  },
  {
   "cell_type": "code",
   "execution_count": null,
   "id": "b0714ca1-6a4e-4ee7-ad16-e4150163df42",
   "metadata": {},
   "outputs": [],
   "source": [
    "librosa.display.specshow(test_song_orig.cpu().detach().numpy(), sr=22050, hop_length=512, x_axis='time', y_axis='log')"
   ]
  },
  {
   "cell_type": "code",
   "execution_count": null,
   "id": "136e72e5-7e79-455b-83b7-dbe09e1a1970",
   "metadata": {},
   "outputs": [],
   "source": [
    "librosa.display.specshow(spectro.cpu().detach().numpy(), sr=22050, hop_length=512, x_axis='time', y_axis='log')"
   ]
  },
  {
   "cell_type": "code",
   "execution_count": null,
   "id": "3c773651-f1c3-4d08-ae12-8015906302fa",
   "metadata": {},
   "outputs": [],
   "source": []
  },
  {
   "cell_type": "code",
   "execution_count": null,
   "id": "cdac57f7-9989-4129-bb66-62c8ce7dcf47",
   "metadata": {},
   "outputs": [],
   "source": []
  },
  {
   "cell_type": "code",
   "execution_count": null,
   "id": "eef38ec6-434e-495a-bf3a-7b00dfcb4ca5",
   "metadata": {},
   "outputs": [],
   "source": []
  }
 ],
 "metadata": {
  "kernelspec": {
   "display_name": "Python 3 (ipykernel)",
   "language": "python",
   "name": "python3"
  },
  "language_info": {
   "codemirror_mode": {
    "name": "ipython",
    "version": 3
   },
   "file_extension": ".py",
   "mimetype": "text/x-python",
   "name": "python",
   "nbconvert_exporter": "python",
   "pygments_lexer": "ipython3",
   "version": "3.8.12"
  }
 },
 "nbformat": 4,
 "nbformat_minor": 5
}
