{
 "cells": [
  {
   "cell_type": "code",
   "execution_count": null,
   "id": "9c9c08c0-a912-4ed3-b74e-98ec3cc89e7f",
   "metadata": {},
   "outputs": [],
   "source": [
    "%pip install librosa python-dotenv pydot\n",
    "%pip install torch==1.10.1+cu113 torchvision==0.11.2+cu113 torchaudio==0.10.1+cu113 -f https://download.pytorch.org/whl/cu113/torch_stable.html"
   ]
  },
  {
   "cell_type": "code",
   "execution_count": null,
   "id": "6e09374b-b974-47b8-be52-90a62a061b3e",
   "metadata": {},
   "outputs": [],
   "source": [
    "from torchaudio import models\n",
    "import torchaudio\n",
    "import torchaudio.transforms as transforms\n",
    "import torch\n",
    "import torch.nn as nn\n",
    "import torch.nn.functional as F\n",
    "import IPython.display as ipd\n",
    "import librosa\n",
    "import librosa.display\n",
    "import matplotlib.pyplot as plt\n",
    "import random\n",
    "\n",
    "import dataloader\n",
    "\n",
    "device = torch.device(\"cuda:0\" if torch.cuda.is_available() else \"cpu\")"
   ]
  },
  {
   "cell_type": "code",
   "execution_count": null,
   "id": "1d954875-cf79-4532-b5e3-3314448619eb",
   "metadata": {},
   "outputs": [],
   "source": [
    "%%time\n",
    "ms = dataloader.MusicSet(dataloader.TRACKS, device=device)"
   ]
  },
  {
   "cell_type": "code",
   "execution_count": null,
   "id": "60702eb7-2ad4-42c3-b96f-b7cbe75a24b5",
   "metadata": {
    "tags": []
   },
   "outputs": [],
   "source": [
    "rnn = nn.RNN(1025, 10, 1, batch_first=True).to(device)\n",
    "rnn2 = nn.RNN(1035, 10, 1, batch_first=True).to(device)\n",
    "idx = 100\n",
    "out, h = rnn(ms[idx][0].t()[None,])\n",
    "print(out.shape)\n",
    "out_r = ms[idx][0].t()[0][None].repeat(1291, 1).unsqueeze(0)\n",
    "\n",
    "out = torch.zeros(10).to(device)\n",
    "\n",
    "finale = torch.zeros(1025, 10)\n",
    "\n",
    "lol = ms[idx][0].t()[0]\n",
    "\n",
    "middle = torch.cat([lol, out + torch.randn(10).to(device)])\n",
    "\n",
    "for i in range(1025):\n",
    "    out, h = rnn2(middle[None, None, ], h)\n",
    "    out = out[0][0]\n",
    "    finale[i] = out\n",
    "    middle = torch.cat([lol, out + torch.randn(10).to(device)])\n",
    "\n",
    "out_s = torch.sum(finale, 1)\n",
    "print(out_s.shape, out_s)"
   ]
  },
  {
   "cell_type": "code",
   "execution_count": null,
   "id": "ec885a68-b6da-418b-8ee8-2de920234984",
   "metadata": {},
   "outputs": [],
   "source": [
    "class RNN_VAE(nn.Module):\n",
    "    def __init__(self, input_size, hidden_size, num_layers, encoder_dim=64):\n",
    "        super(RNN_VAE, self).__init__()\n",
    "        self.num_layers = num_layers\n",
    "        self.hidden_size = hidden_size\n",
    "        self.input_size = input_size\n",
    "        self.rnn1 = nn.GRU(input_size,\n",
    "                           hidden_size,\n",
    "                           num_layers,\n",
    "                           batch_first=True)\n",
    "        self.rnn2 = nn.GRU(hidden_size,\n",
    "                           input_size,\n",
    "                           num_layers,\n",
    "                           batch_first=True)\n",
    "        self.fc0 = nn.Linear(hidden_size, encoder_dim)\n",
    "        self.fc1 = nn.Linear(encoder_dim, hidden_size)\n",
    "\n",
    "    def encode(self,x):\n",
    "        # hidden state\n",
    "        s0 = torch.zeros(self.num_layers, 1, self.hidden_size).to(device)\n",
    "        middle, _ = self.rnn1(x, s0)\n",
    "        return F.relu(middle)\n",
    "\n",
    "    def decode(self, inp_dec, forced_teaching=False):\n",
    "        s1 = torch.zeros(self.num_layers, 1, self.input_size).to(device)\n",
    "        if not forced_teaching:\n",
    "            L = inp_dec.shape[1]\n",
    "            inp_dec = inp_dec[:, -1].repeat(1, L, 1)\n",
    "        middle = self.fc0(inp_dec)\n",
    "        middle = F.relu(middle)\n",
    "        middle = self.fc1(middle)\n",
    "        y, s_out = self.rnn2(middle, s1)\n",
    "        return y\n",
    "\n",
    "    def forward(self, x):\n",
    "        middle = self.encode(x)\n",
    "        return self.decode(middle)"
   ]
  },
  {
   "cell_type": "code",
   "execution_count": null,
   "id": "b7be84f9-b77a-43e7-8172-e394f51f3ec3",
   "metadata": {},
   "outputs": [],
   "source": [
    "LEARNING_RATE = 1e-3\n",
    "WEIGHT_DECAY = 0\n",
    "PENALITY = 0.5\n",
    "\n",
    "model = RNN_VAE(1025, 64, 1, 64).to(device)\n",
    "optimizer = torch.optim.Adam(model.parameters(), lr=LEARNING_RATE, weight_decay=WEIGHT_DECAY)\n",
    "scheduler = torch.optim.lr_scheduler.MultiStepLR(optimizer, milestones=[50], gamma=0.1)\n",
    "criterion = nn.MSELoss()"
   ]
  },
  {
   "cell_type": "code",
   "execution_count": null,
   "id": "2aab297a-3e93-4e38-a149-68d486a7d08d",
   "metadata": {},
   "outputs": [],
   "source": [
    "TEACHING_RATE = 1\n",
    "def train(num_epochs, teaching_rate=TEACHING_RATE):\n",
    "    for epoch in range(num_epochs):\n",
    "        for i, x in enumerate(ms):\n",
    "            x_p = x[0].t()[None,]\n",
    "            mid = model.encode(x_p)\n",
    "            forced_teaching = random.random() < teaching_rate\n",
    "            out = model.decode(mid, forced_teaching)\n",
    "            optimizer.zero_grad()\n",
    "            loss = criterion(out, x_p)\n",
    "            loss.backward()\n",
    "            _ = nn.utils.clip_grad_norm_(model.parameters(), 25.)\n",
    "            optimizer.step()\n",
    "            i += 1\n",
    "            if i % 1 == 0:\n",
    "                print(f\"{epoch},{i}: {loss}\", end='\\r')\n",
    "            break\n",
    "        scheduler.step()"
   ]
  },
  {
   "cell_type": "code",
   "execution_count": null,
   "id": "7aaed233-e54e-4b72-94ad-8f2c534e25b1",
   "metadata": {},
   "outputs": [],
   "source": [
    "train(2000)"
   ]
  },
  {
   "cell_type": "code",
   "execution_count": null,
   "id": "357d4326-f1c2-4452-966c-efba41352d88",
   "metadata": {},
   "outputs": [],
   "source": [
    "SAMPLE = 0\n",
    "\n",
    "test_song_orig = ms[SAMPLE][0]\n",
    "print(test_song_orig.shape)\n",
    "res_orig = ms.from_spectro(test_song_orig)\n",
    "print(res_orig.shape)\n",
    "\n",
    "\n",
    "print(test_song_orig.cpu().detach().numpy())\n",
    "print(f\"Max: {test_song_orig.max().cpu().detach().numpy()},\\\n",
    "      min: {test_song_orig.min().cpu().detach().numpy()},\\\n",
    "      mean: {test_song_orig.mean().cpu().detach().numpy()}\")\n",
    "\n",
    "p = torch.sum(test_song_orig.t().abs(), 1)\n",
    "plt.plot(p.cpu().detach())\n",
    "ipd.Audio(res_orig.cpu(), rate=22050)"
   ]
  },
  {
   "cell_type": "code",
   "execution_count": null,
   "id": "eb09edee-a2f1-4fe3-9ad3-0b01c9323fd6",
   "metadata": {},
   "outputs": [],
   "source": [
    "test_song = ms[SAMPLE][0].t()[None,]\n",
    "code = model.encode(test_song)\n",
    "spectro_forced = F.relu(model.decode(code, True).squeeze().t())\n",
    "spectro_ = F.relu(model.decode(code, False).squeeze().t())\n",
    "# print(spectro_.shape)\n",
    "spectro = spectro_forced\n",
    "\n",
    "res = ms.from_spectro(spectro)\n",
    "# print(res.shape)\n",
    "\n",
    "print(spectro.abs().cpu().detach().numpy())\n",
    "print(f\"Max: {spectro.max().cpu().detach().numpy()},\\\n",
    "      min: {spectro.min().cpu().detach().numpy()},\\\n",
    "      mean: {spectro.mean().cpu().detach().numpy()}\")\n",
    "\n",
    "p = torch.sum(spectro.t().abs(), 1)\n",
    "plt.plot(p.cpu().detach())\n",
    "ipd.Audio(res.cpu().detach(), rate=22050)"
   ]
  },
  {
   "cell_type": "code",
   "execution_count": null,
   "id": "8804a604-75ee-4ace-ba9c-28682aeab403",
   "metadata": {},
   "outputs": [],
   "source": [
    "import soundfile\n",
    "soundfile.write(\"test.wav\",10*res.cpu().detach().numpy(), 22050)"
   ]
  },
  {
   "cell_type": "code",
   "execution_count": null,
   "id": "b0714ca1-6a4e-4ee7-ad16-e4150163df42",
   "metadata": {},
   "outputs": [],
   "source": [
    "librosa.display.specshow(test_song_orig.cpu().detach().numpy(), sr=22050, hop_length=512, x_axis='time', y_axis='log')"
   ]
  },
  {
   "cell_type": "code",
   "execution_count": null,
   "id": "136e72e5-7e79-455b-83b7-dbe09e1a1970",
   "metadata": {},
   "outputs": [],
   "source": [
    "librosa.display.specshow(spectro.cpu().detach().numpy(), sr=22050, hop_length=512, x_axis='time', y_axis='log')"
   ]
  },
  {
   "cell_type": "code",
   "execution_count": null,
   "id": "3c773651-f1c3-4d08-ae12-8015906302fa",
   "metadata": {},
   "outputs": [],
   "source": []
  },
  {
   "cell_type": "code",
   "execution_count": null,
   "id": "cdac57f7-9989-4129-bb66-62c8ce7dcf47",
   "metadata": {},
   "outputs": [],
   "source": []
  },
  {
   "cell_type": "code",
   "execution_count": null,
   "id": "eef38ec6-434e-495a-bf3a-7b00dfcb4ca5",
   "metadata": {},
   "outputs": [],
   "source": []
  }
 ],
 "metadata": {
  "kernelspec": {
   "display_name": "Python 3 (ipykernel)",
   "language": "python",
   "name": "python3"
  },
  "language_info": {
   "codemirror_mode": {
    "name": "ipython",
    "version": 3
   },
   "file_extension": ".py",
   "mimetype": "text/x-python",
   "name": "python",
   "nbconvert_exporter": "python",
   "pygments_lexer": "ipython3",
   "version": "3.8.12"
  }
 },
 "nbformat": 4,
 "nbformat_minor": 5
}
